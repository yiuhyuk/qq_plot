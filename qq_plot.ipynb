{
 "cells": [
  {
   "cell_type": "code",
   "execution_count": 1,
   "metadata": {},
   "outputs": [
    {
     "data": {
      "text/plain": [
       "[-3.078322498951745,\n",
       " -0.44257926668743197,\n",
       " -0.28442575572329976,\n",
       " -0.08391894271348821,\n",
       " 0.5619567861663247,\n",
       " 1.0176669779384615,\n",
       " 1.3448162439504447,\n",
       " 1.874164646241363,\n",
       " 2.936477005326059,\n",
       " 5.340289177069092]"
      ]
     },
     "execution_count": 1,
     "metadata": {},
     "output_type": "execute_result"
    }
   ],
   "source": [
    "import numpy as np\n",
    "import matplotlib.pyplot as plt\n",
    "import pandas as pd\n",
    "from scipy.stats import norm\n",
    "\n",
    "N = 10\n",
    "t_dist = sorted(np.random.standard_t(1, size=10))\n",
    "t_dist"
   ]
  },
  {
   "cell_type": "code",
   "execution_count": 11,
   "metadata": {},
   "outputs": [],
   "source": [
    "t_dist_quantiles = []\n",
    "quantiles_percent = []\n",
    "for i, val in enumerate(t_dist[:-1]):\n",
    "    t_dist_quantiles.append((val + t_dist[i+1])/2)\n",
    "    quantiles_percent.append((i+1)/len(t_dist))"
   ]
  },
  {
   "cell_type": "code",
   "execution_count": 12,
   "metadata": {},
   "outputs": [
    {
     "name": "stdout",
     "output_type": "stream",
     "text": [
      "   percent_below  quantile\n",
      "0            0.1 -1.760451\n",
      "1            0.2 -0.363503\n",
      "2            0.3 -0.184172\n",
      "3            0.4  0.239019\n",
      "4            0.5  0.789812\n",
      "5            0.6  1.181242\n",
      "6            0.7  1.609490\n",
      "7            0.8  2.405321\n",
      "8            0.9  4.138383\n"
     ]
    }
   ],
   "source": [
    "qp_array = np.array(quantiles_percent).reshape(-1,1)\n",
    "tq_array = np.array(t_dist_quantiles).reshape(-1,1)\n",
    "qq_df = pd.DataFrame(np.concatenate((qp_array, tq_array), axis=1),\n",
    "                     columns=['percent_below', 'quantile'])\n",
    "print(qq_df)"
   ]
  },
  {
   "cell_type": "code",
   "execution_count": 13,
   "metadata": {},
   "outputs": [],
   "source": [
    "qq_df['theoretical_quantile'] = [norm.ppf(percentage) for percentage in qq_df['percent_below']]"
   ]
  },
  {
   "cell_type": "code",
   "execution_count": 15,
   "metadata": {},
   "outputs": [
    {
     "name": "stdout",
     "output_type": "stream",
     "text": [
      "   percent_below  quantile  theoretical_quantile\n",
      "0            0.1 -1.760451             -1.281552\n",
      "1            0.2 -0.363503             -0.841621\n",
      "2            0.3 -0.184172             -0.524401\n",
      "3            0.4  0.239019             -0.253347\n",
      "4            0.5  0.789812              0.000000\n",
      "5            0.6  1.181242              0.253347\n",
      "6            0.7  1.609490              0.524401\n",
      "7            0.8  2.405321              0.841621\n",
      "8            0.9  4.138383              1.281552\n"
     ]
    }
   ],
   "source": [
    "print(qq_df)"
   ]
  },
  {
   "cell_type": "code",
   "execution_count": 18,
   "metadata": {},
   "outputs": [
    {
     "data": {
      "image/png": "[encoded data removed]",
      "text/plain": [
       "<Figure size 648x504 with 1 Axes>"
      ]
     },
     "metadata": {
      "needs_background": "light"
     },
     "output_type": "display_data"
    }
   ],
   "source": [
    "plt.subplots(figsize=(9,7))\n",
    "plt.scatter(x=qq_df['theoretical_quantile'],\n",
    "            y=qq_df['quantile'], label='Actual');\n",
    "plt.scatter(x=qq_df['theoretical_quantile'],\n",
    "            y=qq_df['theoretical_quantile'], \n",
    "            c='red', label='Normal')\n",
    "plt.xlabel('Theoretical Quantiles')\n",
    "plt.ylabel('Actual Quantiles')\n",
    "plt.legend()\n",
    "plt.savefig('qq_plot', bpi=150);\n",
    "plt.show()"
   ]
  },
  {
   "cell_type": "code",
   "execution_count": null,
   "metadata": {},
   "outputs": [],
   "source": []
  }
 ],
 "metadata": {
  "kernelspec": {
   "display_name": "Python 3",
   "language": "python",
   "name": "python3"
  },
  "language_info": {
   "codemirror_mode": {
    "name": "ipython",
    "version": 3
   },
   "file_extension": ".py",
   "mimetype": "text/x-python",
   "name": "python",
   "nbconvert_exporter": "python",
   "pygments_lexer": "ipython3",
   "version": "3.7.1"
  }
 },
 "nbformat": 4,
 "nbformat_minor": 2
}
